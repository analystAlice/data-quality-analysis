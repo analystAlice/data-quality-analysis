{
 "cells": [
  {
   "cell_type": "markdown",
   "id": "0bdc8441-89ec-47d9-9532-0ba367eade11",
   "metadata": {},
   "source": [
    "# Análisis de Calidad de Datos"
   ]
  },
  {
   "cell_type": "markdown",
   "id": "dc26d482-3e5c-445e-a406-4dfab15735d2",
   "metadata": {},
   "source": [
    "##### ***Emma Arenas Villaverde***\n",
    "***"
   ]
  },
  {
   "cell_type": "markdown",
   "id": "a7909c26-2957-42d2-b900-278c69abcae1",
   "metadata": {},
   "source": [
    "<br>"
   ]
  },
  {
   "cell_type": "markdown",
   "id": "de71f201-75e0-4b3a-9e48-e21891d5a946",
   "metadata": {},
   "source": [
    "<div>\n",
    "    <h3>Índice</h3>\n",
    "    <ul>\n",
    "        <li><a href=\"#treatment\">1. Tratamiento de los Datos</a></li>\n",
    "        <ul>\n",
    "            <li><a href=\"#libraries\">1.1. Importar Librerías</a></li>\n",
    "            <li><a href=\"#load-data\">1.2. Cargar Dataset Análisis</a></li>\n",
    "        </ul>\n",
    "        <li><a href=\"#analysis\">2. Análisis</a></li>\n",
    "        <ul>\n",
    "            <li><a href=\"#data-info\">2.1. Información de los Datos</a></li>\n",
    "            <li><a href=\"#duplicates\">2.2. Detección de Registros Duplicados</a></li>\n",
    "            <li><a href=\"#na-values\">2.3. Detección de Valores \"NA\"</a></li>\n",
    "            <li><a href=\"#atypical-values\">2.4. Detección de Valores Atípicos</a></li>\n",
    "            </ul>\n",
    "        <li><a href=\"#calculations\">3. Algunos Cálculos Estadísticos...</a></li>\n",
    "</div>"
   ]
  },
  {
   "cell_type": "markdown",
   "id": "6198fcdf-68d3-474a-beef-976425d12bd3",
   "metadata": {},
   "source": [
    "<br>"
   ]
  },
  {
   "cell_type": "markdown",
   "id": "e5ca5e2f-2af2-4244-803b-3b0e789f850c",
   "metadata": {},
   "source": [
    "## 1. Tratamiento de los Datos<a id=\"treatment\"></a>"
   ]
  },
  {
   "cell_type": "markdown",
   "id": "427ae55a-ea57-407b-8733-65b9d7245150",
   "metadata": {},
   "source": [
    "### 1.1. Importar Librerías<a id=\"libraries\"></a>"
   ]
  },
  {
   "cell_type": "code",
   "execution_count": null,
   "id": "ac37d425-da48-4472-9a61-b1065c3a5d6f",
   "metadata": {
    "scrolled": true
   },
   "outputs": [],
   "source": [
    "install.packages(\"readr\") # para leer archivos CSV\n",
    "install.packages(\"dplyr\") # para manipulación de datos\n",
    "library(readr) \n",
    "library(dplyr) "
   ]
  },
  {
   "cell_type": "markdown",
   "id": "6551a502-e145-415f-898d-a86eeaef509c",
   "metadata": {},
   "source": [
    "### 1.2. Cargar Dataset <a id=\"data-info\"></a>"
   ]
  },
  {
   "cell_type": "code",
   "execution_count": null,
   "id": "a2307423-6c2a-47d6-87f1-4e02851aebf6",
   "metadata": {},
   "outputs": [],
   "source": [
    "BBDD_Locales <- read_csv2(\"data/BBDD_Locales.csv\") #  la función read_csv2 viene configurada por defecto para utilizar el punto y coma como delimitador"
   ]
  },
  {
   "cell_type": "markdown",
   "id": "ef55dcc9-aae4-4148-9987-f4c7d7b5ee44",
   "metadata": {},
   "source": [
    "<br>"
   ]
  },
  {
   "cell_type": "markdown",
   "id": "920191bc-b4cd-4335-89df-1c8faa20c824",
   "metadata": {},
   "source": [
    "## 2. Análisis <a id=\"analysis\"></a>"
   ]
  },
  {
   "cell_type": "markdown",
   "id": "beba0304-02fa-4cb2-9497-7dc2cd59f119",
   "metadata": {},
   "source": [
    "### 2.1. Información de los Datos <a id=\"data-info\"></a>"
   ]
  },
  {
   "cell_type": "code",
   "execution_count": 3,
   "id": "20a1098d-1881-46e3-8eee-95a24ade077a",
   "metadata": {},
   "outputs": [
    {
     "data": {
      "text/html": [
       "<style>\n",
       ".list-inline {list-style: none; margin:0; padding: 0}\n",
       ".list-inline>li {display: inline-block}\n",
       ".list-inline>li:not(:last-child)::after {content: \"\\00b7\"; padding: 0 .5ex}\n",
       "</style>\n",
       "<ol class=list-inline><li>766</li><li>7</li></ol>\n"
      ],
      "text/latex": [
       "\\begin{enumerate*}\n",
       "\\item 766\n",
       "\\item 7\n",
       "\\end{enumerate*}\n"
      ],
      "text/markdown": [
       "1. 766\n",
       "2. 7\n",
       "\n",
       "\n"
      ],
      "text/plain": [
       "[1] 766   7"
      ]
     },
     "metadata": {},
     "output_type": "display_data"
    }
   ],
   "source": [
    "dim(BBDD_Locales) # para obtener sus dimensiones"
   ]
  },
  {
   "cell_type": "code",
   "execution_count": 4,
   "id": "62a5225d-969f-4dc5-a81e-fc44b35d3d18",
   "metadata": {},
   "outputs": [
    {
     "name": "stdout",
     "output_type": "stream",
     "text": [
      "spc_tbl_ [766 × 7] (S3: spec_tbl_df/tbl_df/tbl/data.frame)\n",
      " $ municipio   : chr [1:766] \"Municipio29\" \"Municipio29\" \"Municipio29\" \"Municipio29\" ...\n",
      " $ sector      : chr [1:766] \"Menaje\" \"Otros\" \"No alimentario\" \"Otros\" ...\n",
      " $ situacion   : chr [1:766] \"calle\" \"calle\" \"calle\" \"calle\" ...\n",
      " $ forma       : chr [1:766] \"SL\" \"SL\" \"SA\" \"individual\" ...\n",
      " $ superficie  : num [1:766] 99.3 22.5 NA 24.9 21.2 ...\n",
      " $ trabajadores: num [1:766] 6 3 3 1 2 5 3 4 1 4 ...\n",
      " $ antiguedad  : num [1:766] 36.5 14.2 9 11.4 17.1 26.9 13.3 13.5 29.6 6.4 ...\n",
      " - attr(*, \"spec\")=\n",
      "  .. cols(\n",
      "  ..   municipio = \u001b[31mcol_character()\u001b[39m,\n",
      "  ..   sector = \u001b[31mcol_character()\u001b[39m,\n",
      "  ..   situacion = \u001b[31mcol_character()\u001b[39m,\n",
      "  ..   forma = \u001b[31mcol_character()\u001b[39m,\n",
      "  ..   superficie = \u001b[32mcol_double()\u001b[39m,\n",
      "  ..   trabajadores = \u001b[32mcol_double()\u001b[39m,\n",
      "  ..   antiguedad = \u001b[32mcol_double()\u001b[39m\n",
      "  .. )\n",
      " - attr(*, \"problems\")=<externalptr> \n"
     ]
    }
   ],
   "source": [
    "str(BBDD_Locales) # para ver su estructura interna"
   ]
  },
  {
   "cell_type": "code",
   "execution_count": 5,
   "id": "0bb01a28-e974-4056-a6a4-e3b58e9e026b",
   "metadata": {},
   "outputs": [
    {
     "data": {
      "text/html": [
       "<table class=\"dataframe\">\n",
       "<caption>A tibble: 766 × 7</caption>\n",
       "<thead>\n",
       "\t<tr><th scope=col>municipio</th><th scope=col>sector</th><th scope=col>situacion</th><th scope=col>forma</th><th scope=col>superficie</th><th scope=col>trabajadores</th><th scope=col>antiguedad</th></tr>\n",
       "\t<tr><th scope=col>&lt;chr&gt;</th><th scope=col>&lt;chr&gt;</th><th scope=col>&lt;chr&gt;</th><th scope=col>&lt;chr&gt;</th><th scope=col>&lt;dbl&gt;</th><th scope=col>&lt;dbl&gt;</th><th scope=col>&lt;dbl&gt;</th></tr>\n",
       "</thead>\n",
       "<tbody>\n",
       "\t<tr><td>Municipio29</td><td>Menaje                  </td><td>calle           </td><td>SL        </td><td>99.32</td><td>6</td><td>36.5</td></tr>\n",
       "\t<tr><td>Municipio29</td><td>Otros                   </td><td>calle           </td><td>SL        </td><td>22.51</td><td>3</td><td>14.2</td></tr>\n",
       "\t<tr><td>Municipio29</td><td>No alimentario          </td><td>calle           </td><td>SA        </td><td>   NA</td><td>3</td><td> 9.0</td></tr>\n",
       "\t<tr><td>Municipio29</td><td>Otros                   </td><td>calle           </td><td>individual</td><td>24.85</td><td>1</td><td>11.4</td></tr>\n",
       "\t<tr><td>Municipio29</td><td>Equipamientos culturales</td><td>calle           </td><td>SA        </td><td>21.21</td><td>2</td><td>17.1</td></tr>\n",
       "\t<tr><td>Municipio29</td><td>Alimentario             </td><td>calle           </td><td>SA        </td><td>46.14</td><td>5</td><td>26.9</td></tr>\n",
       "\t<tr><td>Municipio29</td><td>No alimentario          </td><td>calle           </td><td>SA        </td><td>44.96</td><td>3</td><td>13.3</td></tr>\n",
       "\t<tr><td>Municipio29</td><td>Ocio y cultura          </td><td>centro comercial</td><td>SL        </td><td>35.16</td><td>4</td><td>13.5</td></tr>\n",
       "\t<tr><td>Municipio29</td><td>Alimentario             </td><td>calle           </td><td>SA        </td><td>20.48</td><td>1</td><td>29.6</td></tr>\n",
       "\t<tr><td>Municipio29</td><td>Menaje                  </td><td>calle           </td><td>SL        </td><td>57.44</td><td>4</td><td> 6.4</td></tr>\n",
       "\t<tr><td>Municipio29</td><td>Otros                   </td><td>calle           </td><td>individual</td><td> 7.73</td><td>1</td><td>13.3</td></tr>\n",
       "\t<tr><td>Municipio29</td><td>Reparaciones            </td><td>calle           </td><td>SL        </td><td>44.75</td><td>4</td><td> 4.7</td></tr>\n",
       "\t<tr><td>Municipio29</td><td>Alimentario             </td><td>calle           </td><td>SA        </td><td>24.32</td><td>2</td><td>30.2</td></tr>\n",
       "\t<tr><td>Municipio29</td><td>Otros                   </td><td>calle           </td><td>SL        </td><td>33.23</td><td>2</td><td> 7.6</td></tr>\n",
       "\t<tr><td>Municipio29</td><td>Menaje                  </td><td>calle           </td><td>individual</td><td>65.64</td><td>4</td><td>14.7</td></tr>\n",
       "\t<tr><td>Municipio29</td><td>Otros                   </td><td>calle           </td><td>SA        </td><td>23.01</td><td>3</td><td>10.4</td></tr>\n",
       "\t<tr><td>Municipio29</td><td>Otros                   </td><td>calle           </td><td>individual</td><td> 9.85</td><td>2</td><td>12.4</td></tr>\n",
       "\t<tr><td>Municipio29</td><td>Alimentario             </td><td>calle           </td><td>SL        </td><td>40.23</td><td>5</td><td>26.5</td></tr>\n",
       "\t<tr><td>Municipio29</td><td>Menaje                  </td><td>calle           </td><td>SL        </td><td>45.82</td><td>3</td><td>26.5</td></tr>\n",
       "\t<tr><td>Municipio29</td><td>Alimentario             </td><td>calle           </td><td>individual</td><td>10.30</td><td>1</td><td>18.1</td></tr>\n",
       "\t<tr><td>Municipio29</td><td>Equipamiento personal   </td><td>calle           </td><td>SL        </td><td>64.58</td><td>3</td><td> 3.0</td></tr>\n",
       "\t<tr><td>Municipio29</td><td>Enseñanza               </td><td>calle           </td><td>individual</td><td>43.54</td><td>3</td><td>50.3</td></tr>\n",
       "\t<tr><td>Municipio29</td><td>Menaje                  </td><td>centro comercial</td><td>SA        </td><td>48.11</td><td>3</td><td> 6.2</td></tr>\n",
       "\t<tr><td>Municipio29</td><td>Menaje                  </td><td>calle           </td><td>individual</td><td>61.69</td><td>2</td><td>32.7</td></tr>\n",
       "\t<tr><td>Municipio29</td><td>Otros                   </td><td>calle           </td><td>SL        </td><td> 5.26</td><td>2</td><td> 8.2</td></tr>\n",
       "\t<tr><td>Municipio29</td><td>Alimentario             </td><td>calle           </td><td>SA        </td><td>46.44</td><td>4</td><td> 5.9</td></tr>\n",
       "\t<tr><td>Municipio29</td><td>Enseñanza               </td><td>calle           </td><td>SL        </td><td>80.96</td><td>3</td><td>14.4</td></tr>\n",
       "\t<tr><td>Municipio29</td><td>Restauración            </td><td>calle           </td><td>SA        </td><td>69.24</td><td>3</td><td>19.0</td></tr>\n",
       "\t<tr><td>Municipio29</td><td>Alimentario             </td><td>calle           </td><td>individual</td><td> 9.98</td><td>1</td><td>16.3</td></tr>\n",
       "\t<tr><td>Municipio29</td><td>Restauración            </td><td>calle           </td><td>SA        </td><td>76.62</td><td>4</td><td> 3.8</td></tr>\n",
       "\t<tr><td>⋮</td><td>⋮</td><td>⋮</td><td>⋮</td><td>⋮</td><td>⋮</td><td>⋮</td></tr>\n",
       "\t<tr><td>Municipio29</td><td>Alimentario          </td><td>calle</td><td>individual</td><td>12.23</td><td>1</td><td>13.7</td></tr>\n",
       "\t<tr><td>Municipio29</td><td>Sanidad              </td><td>calle</td><td>SL        </td><td>22.51</td><td>3</td><td> 7.6</td></tr>\n",
       "\t<tr><td>Municipio29</td><td>Otros                </td><td>calle</td><td>SL        </td><td>12.55</td><td>4</td><td> 9.6</td></tr>\n",
       "\t<tr><td>Municipio29</td><td>Restauración         </td><td>calle</td><td>SL        </td><td>59.56</td><td>4</td><td>25.1</td></tr>\n",
       "\t<tr><td>Municipio29</td><td>Sanidad              </td><td>calle</td><td>individual</td><td>11.51</td><td>1</td><td> 1.0</td></tr>\n",
       "\t<tr><td>Municipio29</td><td>Alimentario          </td><td>calle</td><td>SL        </td><td>34.74</td><td>3</td><td>39.4</td></tr>\n",
       "\t<tr><td>Municipio29</td><td>Menaje               </td><td>calle</td><td>SL        </td><td>82.15</td><td>4</td><td>12.0</td></tr>\n",
       "\t<tr><td>Municipio29</td><td>Menaje               </td><td>calle</td><td>individual</td><td>37.58</td><td>2</td><td>30.2</td></tr>\n",
       "\t<tr><td>Municipio29</td><td>Menaje               </td><td>calle</td><td>SA        </td><td>27.07</td><td>3</td><td>25.2</td></tr>\n",
       "\t<tr><td>Municipio29</td><td>Otros                </td><td>calle</td><td>SA        </td><td>16.45</td><td>1</td><td>13.6</td></tr>\n",
       "\t<tr><td>Municipio29</td><td>Restauración         </td><td>calle</td><td>SA        </td><td>51.91</td><td>4</td><td> 7.7</td></tr>\n",
       "\t<tr><td>Municipio29</td><td>Menaje               </td><td>calle</td><td>SA        </td><td>38.09</td><td>4</td><td>20.9</td></tr>\n",
       "\t<tr><td>Municipio29</td><td>Alimentario          </td><td>calle</td><td>SL        </td><td>14.30</td><td>1</td><td>12.2</td></tr>\n",
       "\t<tr><td>Municipio29</td><td>Menaje               </td><td>calle</td><td>SL        </td><td>96.53</td><td>4</td><td>17.4</td></tr>\n",
       "\t<tr><td>Municipio29</td><td>Otros                </td><td>calle</td><td>SA        </td><td>10.53</td><td>2</td><td>13.9</td></tr>\n",
       "\t<tr><td>Municipio29</td><td>Enseñanza            </td><td>calle</td><td>SL        </td><td>71.06</td><td>5</td><td>27.6</td></tr>\n",
       "\t<tr><td>Municipio29</td><td>Menaje               </td><td>calle</td><td>SL        </td><td>68.50</td><td>4</td><td>17.0</td></tr>\n",
       "\t<tr><td>Municipio29</td><td>Alimentario          </td><td>calle</td><td>SL        </td><td>11.86</td><td>2</td><td> 7.8</td></tr>\n",
       "\t<tr><td>Municipio29</td><td>Restauración         </td><td>calle</td><td>SA        </td><td>35.91</td><td>3</td><td> 6.7</td></tr>\n",
       "\t<tr><td>Municipio29</td><td>Otros                </td><td>calle</td><td>SL        </td><td>40.58</td><td>2</td><td>16.8</td></tr>\n",
       "\t<tr><td>Municipio29</td><td>Restauración         </td><td>calle</td><td>SL        </td><td>48.83</td><td>4</td><td>11.0</td></tr>\n",
       "\t<tr><td>Municipio29</td><td>Equipamiento personal</td><td>calle</td><td>SL        </td><td>59.22</td><td>3</td><td>20.9</td></tr>\n",
       "\t<tr><td>Municipio29</td><td>Alimentario          </td><td>calle</td><td>SL        </td><td>16.06</td><td>2</td><td>15.1</td></tr>\n",
       "\t<tr><td>Municipio29</td><td>Otros                </td><td>calle</td><td>SL        </td><td> 8.71</td><td>1</td><td>15.8</td></tr>\n",
       "\t<tr><td>Municipio29</td><td>Menaje               </td><td>calle</td><td>SA        </td><td>91.34</td><td>7</td><td>22.3</td></tr>\n",
       "\t<tr><td>Municipio29</td><td>Otros                </td><td>calle</td><td>individual</td><td>24.03</td><td>2</td><td> 4.0</td></tr>\n",
       "\t<tr><td>Municipio29</td><td>Menaje               </td><td>calle</td><td>SA        </td><td>73.50</td><td>5</td><td> 3.4</td></tr>\n",
       "\t<tr><td>Municipio29</td><td>Alimentario          </td><td>calle</td><td>SL        </td><td>23.19</td><td>3</td><td>19.7</td></tr>\n",
       "\t<tr><td>Municipio29</td><td>Menaje               </td><td>calle</td><td>SL        </td><td>31.69</td><td>3</td><td>16.6</td></tr>\n",
       "\t<tr><td>Municipio29</td><td>Restauración         </td><td>calle</td><td>SL        </td><td>77.22</td><td>5</td><td>13.8</td></tr>\n",
       "</tbody>\n",
       "</table>\n"
      ],
      "text/latex": [
       "A tibble: 766 × 7\n",
       "\\begin{tabular}{lllllll}\n",
       " municipio & sector & situacion & forma & superficie & trabajadores & antiguedad\\\\\n",
       " <chr> & <chr> & <chr> & <chr> & <dbl> & <dbl> & <dbl>\\\\\n",
       "\\hline\n",
       "\t Municipio29 & Menaje                   & calle            & SL         & 99.32 & 6 & 36.5\\\\\n",
       "\t Municipio29 & Otros                    & calle            & SL         & 22.51 & 3 & 14.2\\\\\n",
       "\t Municipio29 & No alimentario           & calle            & SA         &    NA & 3 &  9.0\\\\\n",
       "\t Municipio29 & Otros                    & calle            & individual & 24.85 & 1 & 11.4\\\\\n",
       "\t Municipio29 & Equipamientos culturales & calle            & SA         & 21.21 & 2 & 17.1\\\\\n",
       "\t Municipio29 & Alimentario              & calle            & SA         & 46.14 & 5 & 26.9\\\\\n",
       "\t Municipio29 & No alimentario           & calle            & SA         & 44.96 & 3 & 13.3\\\\\n",
       "\t Municipio29 & Ocio y cultura           & centro comercial & SL         & 35.16 & 4 & 13.5\\\\\n",
       "\t Municipio29 & Alimentario              & calle            & SA         & 20.48 & 1 & 29.6\\\\\n",
       "\t Municipio29 & Menaje                   & calle            & SL         & 57.44 & 4 &  6.4\\\\\n",
       "\t Municipio29 & Otros                    & calle            & individual &  7.73 & 1 & 13.3\\\\\n",
       "\t Municipio29 & Reparaciones             & calle            & SL         & 44.75 & 4 &  4.7\\\\\n",
       "\t Municipio29 & Alimentario              & calle            & SA         & 24.32 & 2 & 30.2\\\\\n",
       "\t Municipio29 & Otros                    & calle            & SL         & 33.23 & 2 &  7.6\\\\\n",
       "\t Municipio29 & Menaje                   & calle            & individual & 65.64 & 4 & 14.7\\\\\n",
       "\t Municipio29 & Otros                    & calle            & SA         & 23.01 & 3 & 10.4\\\\\n",
       "\t Municipio29 & Otros                    & calle            & individual &  9.85 & 2 & 12.4\\\\\n",
       "\t Municipio29 & Alimentario              & calle            & SL         & 40.23 & 5 & 26.5\\\\\n",
       "\t Municipio29 & Menaje                   & calle            & SL         & 45.82 & 3 & 26.5\\\\\n",
       "\t Municipio29 & Alimentario              & calle            & individual & 10.30 & 1 & 18.1\\\\\n",
       "\t Municipio29 & Equipamiento personal    & calle            & SL         & 64.58 & 3 &  3.0\\\\\n",
       "\t Municipio29 & Enseñanza                & calle            & individual & 43.54 & 3 & 50.3\\\\\n",
       "\t Municipio29 & Menaje                   & centro comercial & SA         & 48.11 & 3 &  6.2\\\\\n",
       "\t Municipio29 & Menaje                   & calle            & individual & 61.69 & 2 & 32.7\\\\\n",
       "\t Municipio29 & Otros                    & calle            & SL         &  5.26 & 2 &  8.2\\\\\n",
       "\t Municipio29 & Alimentario              & calle            & SA         & 46.44 & 4 &  5.9\\\\\n",
       "\t Municipio29 & Enseñanza                & calle            & SL         & 80.96 & 3 & 14.4\\\\\n",
       "\t Municipio29 & Restauración             & calle            & SA         & 69.24 & 3 & 19.0\\\\\n",
       "\t Municipio29 & Alimentario              & calle            & individual &  9.98 & 1 & 16.3\\\\\n",
       "\t Municipio29 & Restauración             & calle            & SA         & 76.62 & 4 &  3.8\\\\\n",
       "\t ⋮ & ⋮ & ⋮ & ⋮ & ⋮ & ⋮ & ⋮\\\\\n",
       "\t Municipio29 & Alimentario           & calle & individual & 12.23 & 1 & 13.7\\\\\n",
       "\t Municipio29 & Sanidad               & calle & SL         & 22.51 & 3 &  7.6\\\\\n",
       "\t Municipio29 & Otros                 & calle & SL         & 12.55 & 4 &  9.6\\\\\n",
       "\t Municipio29 & Restauración          & calle & SL         & 59.56 & 4 & 25.1\\\\\n",
       "\t Municipio29 & Sanidad               & calle & individual & 11.51 & 1 &  1.0\\\\\n",
       "\t Municipio29 & Alimentario           & calle & SL         & 34.74 & 3 & 39.4\\\\\n",
       "\t Municipio29 & Menaje                & calle & SL         & 82.15 & 4 & 12.0\\\\\n",
       "\t Municipio29 & Menaje                & calle & individual & 37.58 & 2 & 30.2\\\\\n",
       "\t Municipio29 & Menaje                & calle & SA         & 27.07 & 3 & 25.2\\\\\n",
       "\t Municipio29 & Otros                 & calle & SA         & 16.45 & 1 & 13.6\\\\\n",
       "\t Municipio29 & Restauración          & calle & SA         & 51.91 & 4 &  7.7\\\\\n",
       "\t Municipio29 & Menaje                & calle & SA         & 38.09 & 4 & 20.9\\\\\n",
       "\t Municipio29 & Alimentario           & calle & SL         & 14.30 & 1 & 12.2\\\\\n",
       "\t Municipio29 & Menaje                & calle & SL         & 96.53 & 4 & 17.4\\\\\n",
       "\t Municipio29 & Otros                 & calle & SA         & 10.53 & 2 & 13.9\\\\\n",
       "\t Municipio29 & Enseñanza             & calle & SL         & 71.06 & 5 & 27.6\\\\\n",
       "\t Municipio29 & Menaje                & calle & SL         & 68.50 & 4 & 17.0\\\\\n",
       "\t Municipio29 & Alimentario           & calle & SL         & 11.86 & 2 &  7.8\\\\\n",
       "\t Municipio29 & Restauración          & calle & SA         & 35.91 & 3 &  6.7\\\\\n",
       "\t Municipio29 & Otros                 & calle & SL         & 40.58 & 2 & 16.8\\\\\n",
       "\t Municipio29 & Restauración          & calle & SL         & 48.83 & 4 & 11.0\\\\\n",
       "\t Municipio29 & Equipamiento personal & calle & SL         & 59.22 & 3 & 20.9\\\\\n",
       "\t Municipio29 & Alimentario           & calle & SL         & 16.06 & 2 & 15.1\\\\\n",
       "\t Municipio29 & Otros                 & calle & SL         &  8.71 & 1 & 15.8\\\\\n",
       "\t Municipio29 & Menaje                & calle & SA         & 91.34 & 7 & 22.3\\\\\n",
       "\t Municipio29 & Otros                 & calle & individual & 24.03 & 2 &  4.0\\\\\n",
       "\t Municipio29 & Menaje                & calle & SA         & 73.50 & 5 &  3.4\\\\\n",
       "\t Municipio29 & Alimentario           & calle & SL         & 23.19 & 3 & 19.7\\\\\n",
       "\t Municipio29 & Menaje                & calle & SL         & 31.69 & 3 & 16.6\\\\\n",
       "\t Municipio29 & Restauración          & calle & SL         & 77.22 & 5 & 13.8\\\\\n",
       "\\end{tabular}\n"
      ],
      "text/markdown": [
       "\n",
       "A tibble: 766 × 7\n",
       "\n",
       "| municipio &lt;chr&gt; | sector &lt;chr&gt; | situacion &lt;chr&gt; | forma &lt;chr&gt; | superficie &lt;dbl&gt; | trabajadores &lt;dbl&gt; | antiguedad &lt;dbl&gt; |\n",
       "|---|---|---|---|---|---|---|\n",
       "| Municipio29 | Menaje                   | calle            | SL         | 99.32 | 6 | 36.5 |\n",
       "| Municipio29 | Otros                    | calle            | SL         | 22.51 | 3 | 14.2 |\n",
       "| Municipio29 | No alimentario           | calle            | SA         |    NA | 3 |  9.0 |\n",
       "| Municipio29 | Otros                    | calle            | individual | 24.85 | 1 | 11.4 |\n",
       "| Municipio29 | Equipamientos culturales | calle            | SA         | 21.21 | 2 | 17.1 |\n",
       "| Municipio29 | Alimentario              | calle            | SA         | 46.14 | 5 | 26.9 |\n",
       "| Municipio29 | No alimentario           | calle            | SA         | 44.96 | 3 | 13.3 |\n",
       "| Municipio29 | Ocio y cultura           | centro comercial | SL         | 35.16 | 4 | 13.5 |\n",
       "| Municipio29 | Alimentario              | calle            | SA         | 20.48 | 1 | 29.6 |\n",
       "| Municipio29 | Menaje                   | calle            | SL         | 57.44 | 4 |  6.4 |\n",
       "| Municipio29 | Otros                    | calle            | individual |  7.73 | 1 | 13.3 |\n",
       "| Municipio29 | Reparaciones             | calle            | SL         | 44.75 | 4 |  4.7 |\n",
       "| Municipio29 | Alimentario              | calle            | SA         | 24.32 | 2 | 30.2 |\n",
       "| Municipio29 | Otros                    | calle            | SL         | 33.23 | 2 |  7.6 |\n",
       "| Municipio29 | Menaje                   | calle            | individual | 65.64 | 4 | 14.7 |\n",
       "| Municipio29 | Otros                    | calle            | SA         | 23.01 | 3 | 10.4 |\n",
       "| Municipio29 | Otros                    | calle            | individual |  9.85 | 2 | 12.4 |\n",
       "| Municipio29 | Alimentario              | calle            | SL         | 40.23 | 5 | 26.5 |\n",
       "| Municipio29 | Menaje                   | calle            | SL         | 45.82 | 3 | 26.5 |\n",
       "| Municipio29 | Alimentario              | calle            | individual | 10.30 | 1 | 18.1 |\n",
       "| Municipio29 | Equipamiento personal    | calle            | SL         | 64.58 | 3 |  3.0 |\n",
       "| Municipio29 | Enseñanza                | calle            | individual | 43.54 | 3 | 50.3 |\n",
       "| Municipio29 | Menaje                   | centro comercial | SA         | 48.11 | 3 |  6.2 |\n",
       "| Municipio29 | Menaje                   | calle            | individual | 61.69 | 2 | 32.7 |\n",
       "| Municipio29 | Otros                    | calle            | SL         |  5.26 | 2 |  8.2 |\n",
       "| Municipio29 | Alimentario              | calle            | SA         | 46.44 | 4 |  5.9 |\n",
       "| Municipio29 | Enseñanza                | calle            | SL         | 80.96 | 3 | 14.4 |\n",
       "| Municipio29 | Restauración             | calle            | SA         | 69.24 | 3 | 19.0 |\n",
       "| Municipio29 | Alimentario              | calle            | individual |  9.98 | 1 | 16.3 |\n",
       "| Municipio29 | Restauración             | calle            | SA         | 76.62 | 4 |  3.8 |\n",
       "| ⋮ | ⋮ | ⋮ | ⋮ | ⋮ | ⋮ | ⋮ |\n",
       "| Municipio29 | Alimentario           | calle | individual | 12.23 | 1 | 13.7 |\n",
       "| Municipio29 | Sanidad               | calle | SL         | 22.51 | 3 |  7.6 |\n",
       "| Municipio29 | Otros                 | calle | SL         | 12.55 | 4 |  9.6 |\n",
       "| Municipio29 | Restauración          | calle | SL         | 59.56 | 4 | 25.1 |\n",
       "| Municipio29 | Sanidad               | calle | individual | 11.51 | 1 |  1.0 |\n",
       "| Municipio29 | Alimentario           | calle | SL         | 34.74 | 3 | 39.4 |\n",
       "| Municipio29 | Menaje                | calle | SL         | 82.15 | 4 | 12.0 |\n",
       "| Municipio29 | Menaje                | calle | individual | 37.58 | 2 | 30.2 |\n",
       "| Municipio29 | Menaje                | calle | SA         | 27.07 | 3 | 25.2 |\n",
       "| Municipio29 | Otros                 | calle | SA         | 16.45 | 1 | 13.6 |\n",
       "| Municipio29 | Restauración          | calle | SA         | 51.91 | 4 |  7.7 |\n",
       "| Municipio29 | Menaje                | calle | SA         | 38.09 | 4 | 20.9 |\n",
       "| Municipio29 | Alimentario           | calle | SL         | 14.30 | 1 | 12.2 |\n",
       "| Municipio29 | Menaje                | calle | SL         | 96.53 | 4 | 17.4 |\n",
       "| Municipio29 | Otros                 | calle | SA         | 10.53 | 2 | 13.9 |\n",
       "| Municipio29 | Enseñanza             | calle | SL         | 71.06 | 5 | 27.6 |\n",
       "| Municipio29 | Menaje                | calle | SL         | 68.50 | 4 | 17.0 |\n",
       "| Municipio29 | Alimentario           | calle | SL         | 11.86 | 2 |  7.8 |\n",
       "| Municipio29 | Restauración          | calle | SA         | 35.91 | 3 |  6.7 |\n",
       "| Municipio29 | Otros                 | calle | SL         | 40.58 | 2 | 16.8 |\n",
       "| Municipio29 | Restauración          | calle | SL         | 48.83 | 4 | 11.0 |\n",
       "| Municipio29 | Equipamiento personal | calle | SL         | 59.22 | 3 | 20.9 |\n",
       "| Municipio29 | Alimentario           | calle | SL         | 16.06 | 2 | 15.1 |\n",
       "| Municipio29 | Otros                 | calle | SL         |  8.71 | 1 | 15.8 |\n",
       "| Municipio29 | Menaje                | calle | SA         | 91.34 | 7 | 22.3 |\n",
       "| Municipio29 | Otros                 | calle | individual | 24.03 | 2 |  4.0 |\n",
       "| Municipio29 | Menaje                | calle | SA         | 73.50 | 5 |  3.4 |\n",
       "| Municipio29 | Alimentario           | calle | SL         | 23.19 | 3 | 19.7 |\n",
       "| Municipio29 | Menaje                | calle | SL         | 31.69 | 3 | 16.6 |\n",
       "| Municipio29 | Restauración          | calle | SL         | 77.22 | 5 | 13.8 |\n",
       "\n"
      ],
      "text/plain": [
       "    municipio   sector                   situacion        forma      superficie\n",
       "1   Municipio29 Menaje                   calle            SL         99.32     \n",
       "2   Municipio29 Otros                    calle            SL         22.51     \n",
       "3   Municipio29 No alimentario           calle            SA            NA     \n",
       "4   Municipio29 Otros                    calle            individual 24.85     \n",
       "5   Municipio29 Equipamientos culturales calle            SA         21.21     \n",
       "6   Municipio29 Alimentario              calle            SA         46.14     \n",
       "7   Municipio29 No alimentario           calle            SA         44.96     \n",
       "8   Municipio29 Ocio y cultura           centro comercial SL         35.16     \n",
       "9   Municipio29 Alimentario              calle            SA         20.48     \n",
       "10  Municipio29 Menaje                   calle            SL         57.44     \n",
       "11  Municipio29 Otros                    calle            individual  7.73     \n",
       "12  Municipio29 Reparaciones             calle            SL         44.75     \n",
       "13  Municipio29 Alimentario              calle            SA         24.32     \n",
       "14  Municipio29 Otros                    calle            SL         33.23     \n",
       "15  Municipio29 Menaje                   calle            individual 65.64     \n",
       "16  Municipio29 Otros                    calle            SA         23.01     \n",
       "17  Municipio29 Otros                    calle            individual  9.85     \n",
       "18  Municipio29 Alimentario              calle            SL         40.23     \n",
       "19  Municipio29 Menaje                   calle            SL         45.82     \n",
       "20  Municipio29 Alimentario              calle            individual 10.30     \n",
       "21  Municipio29 Equipamiento personal    calle            SL         64.58     \n",
       "22  Municipio29 Enseñanza                calle            individual 43.54     \n",
       "23  Municipio29 Menaje                   centro comercial SA         48.11     \n",
       "24  Municipio29 Menaje                   calle            individual 61.69     \n",
       "25  Municipio29 Otros                    calle            SL          5.26     \n",
       "26  Municipio29 Alimentario              calle            SA         46.44     \n",
       "27  Municipio29 Enseñanza                calle            SL         80.96     \n",
       "28  Municipio29 Restauración             calle            SA         69.24     \n",
       "29  Municipio29 Alimentario              calle            individual  9.98     \n",
       "30  Municipio29 Restauración             calle            SA         76.62     \n",
       "⋮   ⋮           ⋮                        ⋮                ⋮          ⋮         \n",
       "737 Municipio29 Alimentario              calle            individual 12.23     \n",
       "738 Municipio29 Sanidad                  calle            SL         22.51     \n",
       "739 Municipio29 Otros                    calle            SL         12.55     \n",
       "740 Municipio29 Restauración             calle            SL         59.56     \n",
       "741 Municipio29 Sanidad                  calle            individual 11.51     \n",
       "742 Municipio29 Alimentario              calle            SL         34.74     \n",
       "743 Municipio29 Menaje                   calle            SL         82.15     \n",
       "744 Municipio29 Menaje                   calle            individual 37.58     \n",
       "745 Municipio29 Menaje                   calle            SA         27.07     \n",
       "746 Municipio29 Otros                    calle            SA         16.45     \n",
       "747 Municipio29 Restauración             calle            SA         51.91     \n",
       "748 Municipio29 Menaje                   calle            SA         38.09     \n",
       "749 Municipio29 Alimentario              calle            SL         14.30     \n",
       "750 Municipio29 Menaje                   calle            SL         96.53     \n",
       "751 Municipio29 Otros                    calle            SA         10.53     \n",
       "752 Municipio29 Enseñanza                calle            SL         71.06     \n",
       "753 Municipio29 Menaje                   calle            SL         68.50     \n",
       "754 Municipio29 Alimentario              calle            SL         11.86     \n",
       "755 Municipio29 Restauración             calle            SA         35.91     \n",
       "756 Municipio29 Otros                    calle            SL         40.58     \n",
       "757 Municipio29 Restauración             calle            SL         48.83     \n",
       "758 Municipio29 Equipamiento personal    calle            SL         59.22     \n",
       "759 Municipio29 Alimentario              calle            SL         16.06     \n",
       "760 Municipio29 Otros                    calle            SL          8.71     \n",
       "761 Municipio29 Menaje                   calle            SA         91.34     \n",
       "762 Municipio29 Otros                    calle            individual 24.03     \n",
       "763 Municipio29 Menaje                   calle            SA         73.50     \n",
       "764 Municipio29 Alimentario              calle            SL         23.19     \n",
       "765 Municipio29 Menaje                   calle            SL         31.69     \n",
       "766 Municipio29 Restauración             calle            SL         77.22     \n",
       "    trabajadores antiguedad\n",
       "1   6            36.5      \n",
       "2   3            14.2      \n",
       "3   3             9.0      \n",
       "4   1            11.4      \n",
       "5   2            17.1      \n",
       "6   5            26.9      \n",
       "7   3            13.3      \n",
       "8   4            13.5      \n",
       "9   1            29.6      \n",
       "10  4             6.4      \n",
       "11  1            13.3      \n",
       "12  4             4.7      \n",
       "13  2            30.2      \n",
       "14  2             7.6      \n",
       "15  4            14.7      \n",
       "16  3            10.4      \n",
       "17  2            12.4      \n",
       "18  5            26.5      \n",
       "19  3            26.5      \n",
       "20  1            18.1      \n",
       "21  3             3.0      \n",
       "22  3            50.3      \n",
       "23  3             6.2      \n",
       "24  2            32.7      \n",
       "25  2             8.2      \n",
       "26  4             5.9      \n",
       "27  3            14.4      \n",
       "28  3            19.0      \n",
       "29  1            16.3      \n",
       "30  4             3.8      \n",
       "⋮   ⋮            ⋮         \n",
       "737 1            13.7      \n",
       "738 3             7.6      \n",
       "739 4             9.6      \n",
       "740 4            25.1      \n",
       "741 1             1.0      \n",
       "742 3            39.4      \n",
       "743 4            12.0      \n",
       "744 2            30.2      \n",
       "745 3            25.2      \n",
       "746 1            13.6      \n",
       "747 4             7.7      \n",
       "748 4            20.9      \n",
       "749 1            12.2      \n",
       "750 4            17.4      \n",
       "751 2            13.9      \n",
       "752 5            27.6      \n",
       "753 4            17.0      \n",
       "754 2             7.8      \n",
       "755 3             6.7      \n",
       "756 2            16.8      \n",
       "757 4            11.0      \n",
       "758 3            20.9      \n",
       "759 2            15.1      \n",
       "760 1            15.8      \n",
       "761 7            22.3      \n",
       "762 2             4.0      \n",
       "763 5             3.4      \n",
       "764 3            19.7      \n",
       "765 3            16.6      \n",
       "766 5            13.8      "
      ]
     },
     "metadata": {},
     "output_type": "display_data"
    }
   ],
   "source": [
    "head(BBDD_Locales, n = 766) # para ver sus filas"
   ]
  },
  {
   "cell_type": "markdown",
   "id": "8eb151e5-7e79-4232-9935-d39b2ff87e63",
   "metadata": {},
   "source": [
    "- **Número de registros**: la base de datos contiene un total de **766 registros**, donde cada uno ellos representa una entrada de datos correspondiente a `Municipio29`.  \n",
    "- **Número de columnas**: la estructura de la base de datos cuenta con **7 columnas**, donde cada una de ellas posee atributos específicos relativos al municipio de estudio.  \n",
    "- **Tipología de las variables**: en cuanto a la tipología de las variables, hay almacenados tanto datos de tipo numeric `num` (indicando números decimales), como de tipo character `chr` (reflejando cadenas de texto)."
   ]
  },
  {
   "cell_type": "markdown",
   "id": "337b683f-91b0-40a9-9e0b-0780655330d8",
   "metadata": {},
   "source": [
    "### 2.2. Detección de Registros Duplicados <a id=\"duplicates\"></a>"
   ]
  },
  {
   "cell_type": "markdown",
   "id": "5c7805b6-3c40-4008-9b57-e461a4d58735",
   "metadata": {},
   "source": [
    "En esta parte del estudio, se han identificado los registros duplicados y se han almacenado en `duplicados` para su visualización:"
   ]
  },
  {
   "cell_type": "code",
   "execution_count": 8,
   "id": "96743e4b-64f7-482d-a501-3d5b34bbc7e7",
   "metadata": {},
   "outputs": [],
   "source": [
    "duplicados<- BBDD_Locales %>% \n",
    "  filter(duplicated(.)) # para obtener sus duplicados"
   ]
  },
  {
   "cell_type": "code",
   "execution_count": 9,
   "id": "07ee007b-e142-4b2c-8858-c7fe9de0a266",
   "metadata": {},
   "outputs": [
    {
     "data": {
      "text/html": [
       "<table class=\"dataframe\">\n",
       "<caption>A tibble: 2 × 7</caption>\n",
       "<thead>\n",
       "\t<tr><th scope=col>municipio</th><th scope=col>sector</th><th scope=col>situacion</th><th scope=col>forma</th><th scope=col>superficie</th><th scope=col>trabajadores</th><th scope=col>antiguedad</th></tr>\n",
       "\t<tr><th scope=col>&lt;chr&gt;</th><th scope=col>&lt;chr&gt;</th><th scope=col>&lt;chr&gt;</th><th scope=col>&lt;chr&gt;</th><th scope=col>&lt;dbl&gt;</th><th scope=col>&lt;dbl&gt;</th><th scope=col>&lt;dbl&gt;</th></tr>\n",
       "</thead>\n",
       "<tbody>\n",
       "\t<tr><td>Municipio29</td><td>Menaje     </td><td>calle</td><td>SA        </td><td>16.45</td><td>1</td><td>16.2</td></tr>\n",
       "\t<tr><td>Municipio29</td><td>Alimentario</td><td>calle</td><td>individual</td><td>10.30</td><td>1</td><td>18.1</td></tr>\n",
       "</tbody>\n",
       "</table>\n"
      ],
      "text/latex": [
       "A tibble: 2 × 7\n",
       "\\begin{tabular}{lllllll}\n",
       " municipio & sector & situacion & forma & superficie & trabajadores & antiguedad\\\\\n",
       " <chr> & <chr> & <chr> & <chr> & <dbl> & <dbl> & <dbl>\\\\\n",
       "\\hline\n",
       "\t Municipio29 & Menaje      & calle & SA         & 16.45 & 1 & 16.2\\\\\n",
       "\t Municipio29 & Alimentario & calle & individual & 10.30 & 1 & 18.1\\\\\n",
       "\\end{tabular}\n"
      ],
      "text/markdown": [
       "\n",
       "A tibble: 2 × 7\n",
       "\n",
       "| municipio &lt;chr&gt; | sector &lt;chr&gt; | situacion &lt;chr&gt; | forma &lt;chr&gt; | superficie &lt;dbl&gt; | trabajadores &lt;dbl&gt; | antiguedad &lt;dbl&gt; |\n",
       "|---|---|---|---|---|---|---|\n",
       "| Municipio29 | Menaje      | calle | SA         | 16.45 | 1 | 16.2 |\n",
       "| Municipio29 | Alimentario | calle | individual | 10.30 | 1 | 18.1 |\n",
       "\n"
      ],
      "text/plain": [
       "  municipio   sector      situacion forma      superficie trabajadores\n",
       "1 Municipio29 Menaje      calle     SA         16.45      1           \n",
       "2 Municipio29 Alimentario calle     individual 10.30      1           \n",
       "  antiguedad\n",
       "1 16.2      \n",
       "2 18.1      "
      ]
     },
     "metadata": {},
     "output_type": "display_data"
    }
   ],
   "source": [
    "head(duplicados)"
   ]
  },
  {
   "cell_type": "markdown",
   "id": "a6247910-ac54-47a9-b9a7-f63020052e86",
   "metadata": {},
   "source": [
    "Tal y como se puede observar, se han detectado **2 registros duplicados**. A partir de aquí, se ha procedido a su eliminación, dejando al actual dataset sin duplicados."
   ]
  },
  {
   "cell_type": "code",
   "execution_count": 10,
   "id": "9f5f1ef0-4a0e-4ce8-8435-43f907e3a5fa",
   "metadata": {},
   "outputs": [],
   "source": [
    "BBDD_Locales <- BBDD_Locales %>%\n",
    "    distinct()"
   ]
  },
  {
   "cell_type": "markdown",
   "id": "85c111de-8116-4dac-a2cf-c5dd91d1afce",
   "metadata": {},
   "source": [
    "A continuación, se comprueba si se han eliminado correctamente:"
   ]
  },
  {
   "cell_type": "code",
   "execution_count": 11,
   "id": "29a6a14c-7c91-4e3d-982d-b90fc03e7951",
   "metadata": {},
   "outputs": [
    {
     "data": {
      "text/html": [
       "0"
      ],
      "text/latex": [
       "0"
      ],
      "text/markdown": [
       "0"
      ],
      "text/plain": [
       "[1] 0"
      ]
     },
     "metadata": {},
     "output_type": "display_data"
    }
   ],
   "source": [
    "sum(duplicated(BBDD_Locales))"
   ]
  },
  {
   "cell_type": "markdown",
   "id": "aa6449cb-d30f-49b8-85f3-b3f57943c832",
   "metadata": {},
   "source": [
    "### 2.3. Detección de Valores “NA” <a id=\"na-values\"></a>"
   ]
  },
  {
   "cell_type": "markdown",
   "id": "37cd2b0c-68b0-46f5-956b-cbb70fa55449",
   "metadata": {},
   "source": [
    "> En Variable `superficie` : estimarlo con el estadístico **media**"
   ]
  },
  {
   "cell_type": "code",
   "execution_count": 56,
   "id": "42d36630-c560-48c3-aa92-fddbaa28a417",
   "metadata": {},
   "outputs": [
    {
     "data": {
      "text/html": [
       "FALSE"
      ],
      "text/latex": [
       "FALSE"
      ],
      "text/markdown": [
       "FALSE"
      ],
      "text/plain": [
       "[1] FALSE"
      ]
     },
     "metadata": {},
     "output_type": "display_data"
    }
   ],
   "source": [
    "na_superficie <- any(is.na(BBDD_Locales$superficie)) # para detectar valores \"NA\"\n",
    "na_superficie"
   ]
  },
  {
   "cell_type": "markdown",
   "id": "317bf9f7-e4f1-432a-a3b3-deab708c5558",
   "metadata": {},
   "source": [
    "Una vez detectados los valores \"NA\", se realiza la estimación, asegurando excluir los valores faltantes en el cálculo mediante el argumento `na.rm = TRUE` :"
   ]
  },
  {
   "cell_type": "code",
   "execution_count": 13,
   "id": "fb1758ca-a4b4-4dd0-aa53-3c297fcfafc2",
   "metadata": {},
   "outputs": [],
   "source": [
    "BBDD_Locales <- BBDD_Locales %>%\n",
    "  mutate(superficie = ifelse(is.na(superficie), mean(superficie, na.rm = TRUE), superficie)) # para transformar las variables"
   ]
  },
  {
   "cell_type": "markdown",
   "id": "85d364e2-2937-4d68-9de6-9d337af6f267",
   "metadata": {},
   "source": [
    "> En Variable `trabajadores` : estimarlo con el estadístico **máximo**"
   ]
  },
  {
   "cell_type": "code",
   "execution_count": 58,
   "id": "5e7e0560-f604-44bc-9df6-6b8bb83ece06",
   "metadata": {},
   "outputs": [
    {
     "data": {
      "text/html": [
       "FALSE"
      ],
      "text/latex": [
       "FALSE"
      ],
      "text/markdown": [
       "FALSE"
      ],
      "text/plain": [
       "[1] FALSE"
      ]
     },
     "metadata": {},
     "output_type": "display_data"
    }
   ],
   "source": [
    "na_trabajadores <- any(is.na(BBDD_Locales$trabajadores)) # para detectar valores \"NA\"\n",
    "na_trabajadores"
   ]
  },
  {
   "cell_type": "markdown",
   "id": "6acbba03-2c7e-4d35-8a01-93a43c225863",
   "metadata": {},
   "source": [
    "En cuanto a la columna `trabajadores` , sus valores \"NA\" han sido sustituidos por el valor máximo, nuevamente excluyendo los valores faltantes en el cálculo:"
   ]
  },
  {
   "cell_type": "code",
   "execution_count": 59,
   "id": "cefd709c-da66-434f-a7ff-e345cf7b1716",
   "metadata": {},
   "outputs": [],
   "source": [
    "BBDD_Locales <- BBDD_Locales %>%\n",
    "  mutate(trabajadores = ifelse(is.na(trabajadores), max(trabajadores, na.rm = TRUE), trabajadores)) # para transformar las variables"
   ]
  },
  {
   "cell_type": "markdown",
   "id": "ba8692da-659d-43dc-b51e-2e29d91f57c0",
   "metadata": {},
   "source": [
    "Finalmente, se comprueba que ya no existen valores vacíos:"
   ]
  },
  {
   "cell_type": "code",
   "execution_count": 16,
   "id": "b71e6f81-3f7c-4ecd-9e23-6a33c6dec64e",
   "metadata": {},
   "outputs": [
    {
     "data": {
      "text/html": [
       "0"
      ],
      "text/latex": [
       "0"
      ],
      "text/markdown": [
       "0"
      ],
      "text/plain": [
       "[1] 0"
      ]
     },
     "metadata": {},
     "output_type": "display_data"
    },
    {
     "data": {
      "text/html": [
       "0"
      ],
      "text/latex": [
       "0"
      ],
      "text/markdown": [
       "0"
      ],
      "text/plain": [
       "[1] 0"
      ]
     },
     "metadata": {},
     "output_type": "display_data"
    }
   ],
   "source": [
    "sum(is.na(BBDD_Locales$superficie)) # para contar la cantidad de NA\n",
    "sum(is.na(BBDD_Locales$trabajadores)) # para contar la cantidad de NA"
   ]
  },
  {
   "cell_type": "markdown",
   "id": "968b5b59-0f7f-4ba7-84bf-8d7642db6927",
   "metadata": {},
   "source": [
    "### 2.4. Detección de Valores Atípicos <a id=\"atypical-values\"></a>"
   ]
  },
  {
   "cell_type": "markdown",
   "id": "b4005c14-73b0-4ebb-bae4-fadce6f70ccf",
   "metadata": {},
   "source": [
    "> Box-plot"
   ]
  },
  {
   "cell_type": "markdown",
   "id": "763d5bfd-a7fc-4e38-a108-2ebcc123bcfb",
   "metadata": {},
   "source": [
    "Se crea un gráfico de los valores atípicos de la columna `superficie`:"
   ]
  },
  {
   "cell_type": "code",
   "execution_count": 32,
   "id": "75632de1-bc70-4f1c-9b7a-502ed02f6b9a",
   "metadata": {},
   "outputs": [
    {
     "data": {
      "image/png": "[encoded data removed]",
      "text/plain": [
       "Plot with title \"Box plot de valores atípicos de Superficie\""
      ]
     },
     "metadata": {
      "image/png": {
       "height": 420,
       "width": 420
      }
     },
     "output_type": "display_data"
    }
   ],
   "source": [
    "boxplot_superficie <- boxplot(BBDD_Locales$superficie,\n",
    "                             horizontal = TRUE,\n",
    "                             border = \"red\",\n",
    "                             main = \"Box plot de valores atípicos de Superficie\",\n",
    "                             xlab = \"Superficie\") # para crear un gráfico box-plot"
   ]
  },
  {
   "cell_type": "markdown",
   "id": "54fa2844-93f2-4138-8a38-628048396d68",
   "metadata": {},
   "source": [
    "Se detectan **12 desviaciones**:"
   ]
  },
  {
   "cell_type": "code",
   "execution_count": 62,
   "id": "cb1f1686-8f0a-4bee-97d8-3cbaabcea65c",
   "metadata": {},
   "outputs": [
    {
     "data": {
      "text/html": [
       "<style>\n",
       ".list-inline {list-style: none; margin:0; padding: 0}\n",
       ".list-inline>li {display: inline-block}\n",
       ".list-inline>li:not(:last-child)::after {content: \"\\00b7\"; padding: 0 .5ex}\n",
       "</style>\n",
       "<ol class=list-inline><li>358.65</li><li>345.27</li><li>364.19</li><li>363.84</li><li>370.98</li><li>334.64</li><li>349.5</li><li>397.07</li><li>358.93</li><li>361.02</li><li>129.65</li><li>373.53</li></ol>\n"
      ],
      "text/latex": [
       "\\begin{enumerate*}\n",
       "\\item 358.65\n",
       "\\item 345.27\n",
       "\\item 364.19\n",
       "\\item 363.84\n",
       "\\item 370.98\n",
       "\\item 334.64\n",
       "\\item 349.5\n",
       "\\item 397.07\n",
       "\\item 358.93\n",
       "\\item 361.02\n",
       "\\item 129.65\n",
       "\\item 373.53\n",
       "\\end{enumerate*}\n"
      ],
      "text/markdown": [
       "1. 358.65\n",
       "2. 345.27\n",
       "3. 364.19\n",
       "4. 363.84\n",
       "5. 370.98\n",
       "6. 334.64\n",
       "7. 349.5\n",
       "8. 397.07\n",
       "9. 358.93\n",
       "10. 361.02\n",
       "11. 129.65\n",
       "12. 373.53\n",
       "\n",
       "\n"
      ],
      "text/plain": [
       " [1] 358.65 345.27 364.19 363.84 370.98 334.64 349.50 397.07 358.93 361.02\n",
       "[11] 129.65 373.53"
      ]
     },
     "metadata": {},
     "output_type": "display_data"
    },
    {
     "data": {
      "text/html": [
       "12"
      ],
      "text/latex": [
       "12"
      ],
      "text/markdown": [
       "12"
      ],
      "text/plain": [
       "[1] 12"
      ]
     },
     "metadata": {},
     "output_type": "display_data"
    }
   ],
   "source": [
    "atipicos_superficie <- boxplot_superficie$out # para extraer los atípicos del box-plot\n",
    "atipicos_superficie\n",
    "numero_atipicos_superficie <- length(atipicos_superficie) # para conocer el número de átipicos\n",
    "numero_atipicos_superficie"
   ]
  },
  {
   "cell_type": "markdown",
   "id": "edbcda6f-8b6e-47f7-9b1e-d855f2b4f56a",
   "metadata": {},
   "source": [
    "A continuación, se realiza exactamente el mismo proceso para la columna `trabajadores` ."
   ]
  },
  {
   "cell_type": "code",
   "execution_count": 19,
   "id": "93445afb-9b84-4797-a547-825a35791a7b",
   "metadata": {},
   "outputs": [
    {
     "data": {
      "image/png": "[encoded data removed]",
      "text/plain": [
       "Plot with title \"Box plot de valores atípicos de trabajadores\""
      ]
     },
     "metadata": {
      "image/png": {
       "height": 420,
       "width": 420
      }
     },
     "output_type": "display_data"
    }
   ],
   "source": [
    "boxplot_trabajadores <- boxplot(BBDD_Locales$trabajadores,\n",
    "                            horizontal = TRUE,\n",
    "                            border = \"red\",\n",
    "                            main = \"Box plot de valores atípicos de Trabajadores\",\n",
    "                            xlab = \"Trabajadores\") # para crear un gráfico box-plot"
   ]
  },
  {
   "cell_type": "markdown",
   "id": "eedc8f14-04e1-47ad-916b-691b0e3b2b24",
   "metadata": {},
   "source": [
    "Se detectan **14 desviaciones**:"
   ]
  },
  {
   "cell_type": "code",
   "execution_count": 64,
   "id": "b45f9926-0768-46ac-9160-c3543faa8d1c",
   "metadata": {},
   "outputs": [
    {
     "data": {
      "text/html": [
       "<style>\n",
       ".list-inline {list-style: none; margin:0; padding: 0}\n",
       ".list-inline>li {display: inline-block}\n",
       ".list-inline>li:not(:last-child)::after {content: \"\\00b7\"; padding: 0 .5ex}\n",
       "</style>\n",
       "<ol class=list-inline><li>21</li><li>18</li><li>21</li><li>16</li><li>20</li><li>18</li><li>19</li><li>21</li><li>18</li><li>18</li><li>21</li><li>18</li><li>12</li><li>18</li></ol>\n"
      ],
      "text/latex": [
       "\\begin{enumerate*}\n",
       "\\item 21\n",
       "\\item 18\n",
       "\\item 21\n",
       "\\item 16\n",
       "\\item 20\n",
       "\\item 18\n",
       "\\item 19\n",
       "\\item 21\n",
       "\\item 18\n",
       "\\item 18\n",
       "\\item 21\n",
       "\\item 18\n",
       "\\item 12\n",
       "\\item 18\n",
       "\\end{enumerate*}\n"
      ],
      "text/markdown": [
       "1. 21\n",
       "2. 18\n",
       "3. 21\n",
       "4. 16\n",
       "5. 20\n",
       "6. 18\n",
       "7. 19\n",
       "8. 21\n",
       "9. 18\n",
       "10. 18\n",
       "11. 21\n",
       "12. 18\n",
       "13. 12\n",
       "14. 18\n",
       "\n",
       "\n"
      ],
      "text/plain": [
       " [1] 21 18 21 16 20 18 19 21 18 18 21 18 12 18"
      ]
     },
     "metadata": {},
     "output_type": "display_data"
    },
    {
     "data": {
      "text/html": [
       "14"
      ],
      "text/latex": [
       "14"
      ],
      "text/markdown": [
       "14"
      ],
      "text/plain": [
       "[1] 14"
      ]
     },
     "metadata": {},
     "output_type": "display_data"
    }
   ],
   "source": [
    "atipicos_trabajadores <- boxplot_trabajadores$out # para extraer los atípicos del box-plot\n",
    "atipicos_trabajadores\n",
    "numero_atipicos_trabajadores <- length(atipicos_trabajadores) # para conocer el número de átipicos\n",
    "numero_atipicos_trabajadores"
   ]
  },
  {
   "cell_type": "markdown",
   "id": "d7d3ca14-7b41-45d1-963c-479a2f88fd6a",
   "metadata": {},
   "source": [
    "> Z-score"
   ]
  },
  {
   "cell_type": "markdown",
   "id": "611bfbb8-08a8-4b24-a0f7-c131e2ee2047",
   "metadata": {},
   "source": [
    "Respecto al método z-score, primeramente se usa la función `scale()` a fin de calcular las desviaciones de `superficie`. Luego, se establece un **umbral de 2** para identificar valores atípicos."
   ]
  },
  {
   "cell_type": "code",
   "execution_count": 65,
   "id": "f7578e7a-4b6f-4983-b5a1-1e35eb239d55",
   "metadata": {},
   "outputs": [
    {
     "data": {
      "text/html": [
       "<style>\n",
       ".list-inline {list-style: none; margin:0; padding: 0}\n",
       ".list-inline>li {display: inline-block}\n",
       ".list-inline>li:not(:last-child)::after {content: \"\\00b7\"; padding: 0 .5ex}\n",
       "</style>\n",
       "<ol class=list-inline><li>90</li><li>111</li><li>186</li><li>260</li><li>270</li><li>306</li><li>334</li><li>339</li><li>347</li><li>451</li><li>696</li></ol>\n"
      ],
      "text/latex": [
       "\\begin{enumerate*}\n",
       "\\item 90\n",
       "\\item 111\n",
       "\\item 186\n",
       "\\item 260\n",
       "\\item 270\n",
       "\\item 306\n",
       "\\item 334\n",
       "\\item 339\n",
       "\\item 347\n",
       "\\item 451\n",
       "\\item 696\n",
       "\\end{enumerate*}\n"
      ],
      "text/markdown": [
       "1. 90\n",
       "2. 111\n",
       "3. 186\n",
       "4. 260\n",
       "5. 270\n",
       "6. 306\n",
       "7. 334\n",
       "8. 339\n",
       "9. 347\n",
       "10. 451\n",
       "11. 696\n",
       "\n",
       "\n"
      ],
      "text/plain": [
       " [1]  90 111 186 260 270 306 334 339 347 451 696"
      ]
     },
     "metadata": {},
     "output_type": "display_data"
    },
    {
     "data": {
      "text/html": [
       "11"
      ],
      "text/latex": [
       "11"
      ],
      "text/markdown": [
       "11"
      ],
      "text/plain": [
       "[1] 11"
      ]
     },
     "metadata": {},
     "output_type": "display_data"
    }
   ],
   "source": [
    "z_scores_superficie <- scale(BBDD_Locales$superficie) # para calcular las desviaciones\n",
    "atipicos_z_score_superficie <- which(abs(z_scores_superficie) > 2)\n",
    "atipicos_z_score_superficie\n",
    "numero_atipicos_superficie2 <- length(atipicos_z_score_superficie) # para conocer el número de átipicos\n",
    "numero_atipicos_superficie2"
   ]
  },
  {
   "cell_type": "markdown",
   "id": "8e49fac8-0681-4bef-8498-03fd64356630",
   "metadata": {},
   "source": [
    "Ante esto, se observa que la diferencia de desviación entre métodos es de **1**. Esto se debe a que box-plot se basa en cuartiles y rangos intercuartiles (IQR) para identificar valores atípicos, lo que puede llevar a que los valores extremos se consideren atípicos solo si están muy lejos de la mayoría de los datos. El método z-score, por su parte, identifica un número diferente de valores atípicos; ya que se centra en la distancia entre cada punto de\n",
    "datos y la media."
   ]
  },
  {
   "cell_type": "code",
   "execution_count": 42,
   "id": "c0bb62a1-1681-49db-b158-8c5267fa5c68",
   "metadata": {},
   "outputs": [
    {
     "data": {
      "image/png": "[encoded data removed]",
      "text/plain": [
       "Plot with title \"Z-Scores de Superficie\""
      ]
     },
     "metadata": {
      "image/png": {
       "height": 420,
       "width": 420
      }
     },
     "output_type": "display_data"
    }
   ],
   "source": [
    "plot(z_scores_superficie, main = \"Z-Scores de Superficie\", xlab = \"Índice\", ylab = \"Z-Score\",\n",
    "     pch = 19, col = ifelse(abs(z_scores_superficie) > 2, \"red\", \"black\"))"
   ]
  },
  {
   "cell_type": "markdown",
   "id": "f2a8bd9a-14a6-48ac-af79-772e82353b12",
   "metadata": {},
   "source": [
    "Con la columna `trabajadores` se hace exactamente lo mismo, y esta vez la diferencia ha\n",
    "sido nula:"
   ]
  },
  {
   "cell_type": "code",
   "execution_count": 66,
   "id": "06230bce-4aa5-4a0a-b68d-89015991ef4b",
   "metadata": {},
   "outputs": [
    {
     "data": {
      "text/html": [
       "<style>\n",
       ".list-inline {list-style: none; margin:0; padding: 0}\n",
       ".list-inline>li {display: inline-block}\n",
       ".list-inline>li:not(:last-child)::after {content: \"\\00b7\"; padding: 0 .5ex}\n",
       "</style>\n",
       "<ol class=list-inline><li>85</li><li>90</li><li>111</li><li>186</li><li>260</li><li>270</li><li>306</li><li>334</li><li>339</li><li>347</li><li>412</li><li>451</li><li>602</li><li>696</li></ol>\n"
      ],
      "text/latex": [
       "\\begin{enumerate*}\n",
       "\\item 85\n",
       "\\item 90\n",
       "\\item 111\n",
       "\\item 186\n",
       "\\item 260\n",
       "\\item 270\n",
       "\\item 306\n",
       "\\item 334\n",
       "\\item 339\n",
       "\\item 347\n",
       "\\item 412\n",
       "\\item 451\n",
       "\\item 602\n",
       "\\item 696\n",
       "\\end{enumerate*}\n"
      ],
      "text/markdown": [
       "1. 85\n",
       "2. 90\n",
       "3. 111\n",
       "4. 186\n",
       "5. 260\n",
       "6. 270\n",
       "7. 306\n",
       "8. 334\n",
       "9. 339\n",
       "10. 347\n",
       "11. 412\n",
       "12. 451\n",
       "13. 602\n",
       "14. 696\n",
       "\n",
       "\n"
      ],
      "text/plain": [
       " [1]  85  90 111 186 260 270 306 334 339 347 412 451 602 696"
      ]
     },
     "metadata": {},
     "output_type": "display_data"
    },
    {
     "data": {
      "text/html": [
       "14"
      ],
      "text/latex": [
       "14"
      ],
      "text/markdown": [
       "14"
      ],
      "text/plain": [
       "[1] 14"
      ]
     },
     "metadata": {},
     "output_type": "display_data"
    }
   ],
   "source": [
    "z_scores_trabajadores <- scale(BBDD_Locales$trabajadores) # para calcular las desviaciones\n",
    "atipicos_z_score_trabajadores <- which(abs(z_scores_trabajadores) > 2)\n",
    "atipicos_z_score_trabajadores\n",
    "numeros_atipicos_trabajadores2 <- length(atipicos_z_score_trabajadores) # para conocer el número de átipicos\n",
    "numeros_atipicos_trabajadores2"
   ]
  },
  {
   "cell_type": "markdown",
   "id": "236b1783-6c12-4a68-b62a-2e52ce6a9080",
   "metadata": {},
   "source": [
    "En este caso, puede ser que los datos sigan una distribución relativamente simétrica y los\n",
    "valores atípicos se encuentren lejos de la media."
   ]
  },
  {
   "cell_type": "code",
   "execution_count": 25,
   "id": "d7d26ed8-c6cc-4275-a8cf-2a58f6776c36",
   "metadata": {},
   "outputs": [
    {
     "data": {
      "image/png": "[encoded data removed]",
      "text/plain": [
       "Plot with title \"Z-Scores de Trabajadores\""
      ]
     },
     "metadata": {
      "image/png": {
       "height": 420,
       "width": 420
      }
     },
     "output_type": "display_data"
    }
   ],
   "source": [
    "plot(z_scores_trabajadores, main = \"Z-Scores de Trabajadores\", xlab = \"Índice\", ylab = \"Z-Score\",\n",
    "     pch = 19, col = ifelse(abs(z_scores_trabajadores) > 2, \"red\", \"black\"))"
   ]
  },
  {
   "cell_type": "markdown",
   "id": "1c3cddf9-b46f-4baa-b3c4-24cf047165ed",
   "metadata": {},
   "source": [
    "<br>"
   ]
  },
  {
   "cell_type": "markdown",
   "id": "306041db-4170-4722-bdc5-02976dbfc144",
   "metadata": {},
   "source": [
    "## 3. Algunos Cálculos Estadísticos... <a id=\"calculations\"></a>"
   ]
  },
  {
   "cell_type": "markdown",
   "id": "21674889-b8fd-4e82-9d07-07179a375880",
   "metadata": {},
   "source": [
    "> Superficie media por forma mercantil"
   ]
  },
  {
   "cell_type": "code",
   "execution_count": 48,
   "id": "960ac6a3-552e-4fa3-a7f8-0afe51897817",
   "metadata": {},
   "outputs": [
    {
     "data": {
      "text/html": [
       "<table class=\"dataframe\">\n",
       "<caption>A tibble: 4 × 2</caption>\n",
       "<thead>\n",
       "\t<tr><th scope=col>forma</th><th scope=col>superficie_media</th></tr>\n",
       "\t<tr><th scope=col>&lt;chr&gt;</th><th scope=col>&lt;dbl&gt;</th></tr>\n",
       "</thead>\n",
       "<tbody>\n",
       "\t<tr><td>SA         </td><td> 59.61605</td></tr>\n",
       "\t<tr><td>SL         </td><td> 46.13969</td></tr>\n",
       "\t<tr><td>cooperativa</td><td>361.38500</td></tr>\n",
       "\t<tr><td>individual </td><td> 30.49525</td></tr>\n",
       "</tbody>\n",
       "</table>\n"
      ],
      "text/latex": [
       "A tibble: 4 × 2\n",
       "\\begin{tabular}{ll}\n",
       " forma & superficie\\_media\\\\\n",
       " <chr> & <dbl>\\\\\n",
       "\\hline\n",
       "\t SA          &  59.61605\\\\\n",
       "\t SL          &  46.13969\\\\\n",
       "\t cooperativa & 361.38500\\\\\n",
       "\t individual  &  30.49525\\\\\n",
       "\\end{tabular}\n"
      ],
      "text/markdown": [
       "\n",
       "A tibble: 4 × 2\n",
       "\n",
       "| forma &lt;chr&gt; | superficie_media &lt;dbl&gt; |\n",
       "|---|---|\n",
       "| SA          |  59.61605 |\n",
       "| SL          |  46.13969 |\n",
       "| cooperativa | 361.38500 |\n",
       "| individual  |  30.49525 |\n",
       "\n"
      ],
      "text/plain": [
       "  forma       superficie_media\n",
       "1 SA           59.61605       \n",
       "2 SL           46.13969       \n",
       "3 cooperativa 361.38500       \n",
       "4 individual   30.49525       "
      ]
     },
     "metadata": {},
     "output_type": "display_data"
    }
   ],
   "source": [
    "resultados_superficie <- BBDD_Locales %>%\n",
    "  group_by(forma) %>%\n",
    "  summarize(superficie_media = mean(superficie, na.rm = TRUE))\n",
    "resultados_superficie"
   ]
  },
  {
   "cell_type": "markdown",
   "id": "96c8483d-74d4-42a2-9f42-b06e8b0566a1",
   "metadata": {},
   "source": [
    "> Antigüedad mínima y máxima por situación del local"
   ]
  },
  {
   "cell_type": "code",
   "execution_count": 52,
   "id": "8fec8244-bb13-41a6-8b81-0cf1cca29e16",
   "metadata": {},
   "outputs": [
    {
     "data": {
      "text/html": [
       "<table class=\"dataframe\">\n",
       "<caption>A tibble: 2 × 3</caption>\n",
       "<thead>\n",
       "\t<tr><th scope=col>situacion</th><th scope=col>antiguedad_minima</th><th scope=col>antiguedad_maxima</th></tr>\n",
       "\t<tr><th scope=col>&lt;chr&gt;</th><th scope=col>&lt;dbl&gt;</th><th scope=col>&lt;dbl&gt;</th></tr>\n",
       "</thead>\n",
       "<tbody>\n",
       "\t<tr><td>calle           </td><td>0.5</td><td>79.8</td></tr>\n",
       "\t<tr><td>centro comercial</td><td>0.7</td><td>36.9</td></tr>\n",
       "</tbody>\n",
       "</table>\n"
      ],
      "text/latex": [
       "A tibble: 2 × 3\n",
       "\\begin{tabular}{lll}\n",
       " situacion & antiguedad\\_minima & antiguedad\\_maxima\\\\\n",
       " <chr> & <dbl> & <dbl>\\\\\n",
       "\\hline\n",
       "\t calle            & 0.5 & 79.8\\\\\n",
       "\t centro comercial & 0.7 & 36.9\\\\\n",
       "\\end{tabular}\n"
      ],
      "text/markdown": [
       "\n",
       "A tibble: 2 × 3\n",
       "\n",
       "| situacion &lt;chr&gt; | antiguedad_minima &lt;dbl&gt; | antiguedad_maxima &lt;dbl&gt; |\n",
       "|---|---|---|\n",
       "| calle            | 0.5 | 79.8 |\n",
       "| centro comercial | 0.7 | 36.9 |\n",
       "\n"
      ],
      "text/plain": [
       "  situacion        antiguedad_minima antiguedad_maxima\n",
       "1 calle            0.5               79.8             \n",
       "2 centro comercial 0.7               36.9             "
      ]
     },
     "metadata": {},
     "output_type": "display_data"
    }
   ],
   "source": [
    "resultados_antiguedad <- BBDD_Locales %>%\n",
    "  group_by(situacion) %>%\n",
    "  summarize(\n",
    "    antiguedad_minima = min(antiguedad, na.rm = TRUE),\n",
    "    antiguedad_maxima = max(antiguedad, na.rm = TRUE)\n",
    "  )\n",
    "resultados_antiguedad"
   ]
  }
 ],
 "metadata": {
  "kernelspec": {
   "display_name": "R",
   "language": "R",
   "name": "ir"
  },
  "language_info": {
   "codemirror_mode": "r",
   "file_extension": ".r",
   "mimetype": "text/x-r-source",
   "name": "R",
   "pygments_lexer": "r",
   "version": "4.3.3"
  }
 },
 "nbformat": 4,
 "nbformat_minor": 5
}
